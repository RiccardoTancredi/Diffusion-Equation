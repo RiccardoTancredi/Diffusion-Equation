{
 "cells": [
  {
   "cell_type": "code",
   "execution_count": 1,
   "metadata": {},
   "outputs": [],
   "source": [
    "%matplotlib inline\n",
    "import numpy as np\n",
    "import matplotlib.pyplot as plt"
   ]
  },
  {
   "cell_type": "markdown",
   "metadata": {},
   "source": [
    "# 2 - D"
   ]
  },
  {
   "cell_type": "code",
   "execution_count": 2,
   "metadata": {},
   "outputs": [],
   "source": [
    "# create 100 particles in the range of the origin (0, 0)\n",
    "particles_number = 100\n",
    "# We have to discretize space and time\n",
    "l = 0.1 # In this way x(i) = i*l\n",
    "epsilon = 0.1 # Im this way t(n) = n*epsilon\n",
    "X = np.arange(-0.5, 0.5, l)\n",
    "Y = np.arange(-0.5, 0.5, l)"
   ]
  },
  {
   "cell_type": "code",
   "execution_count": 3,
   "metadata": {},
   "outputs": [],
   "source": [
    "# Create the grid points\n",
    "def create_grid(Grid_points):\n",
    "    x = []\n",
    "    y = []\n",
    "    for i in range(len(Grid_points)):\n",
    "        x.append(Grid_points[i][0])\n",
    "        y.append(Grid_points[i][1])\n",
    "    x = np.array(x)\n",
    "    y = np.array(y)\n",
    "    return x, y"
   ]
  },
  {
   "cell_type": "code",
   "execution_count": 4,
   "metadata": {
    "scrolled": true
   },
   "outputs": [],
   "source": [
    "Grid_points = np.array([(x, y) for x in X for y in Y])\n",
    "# Grid_points = np.matrix(Grid_points)\n",
    "x, y = create_grid(Grid_points)"
   ]
  },
  {
   "cell_type": "code",
   "execution_count": 5,
   "metadata": {},
   "outputs": [
    {
     "data": {
      "text/plain": [
       "100"
      ]
     },
     "execution_count": 5,
     "metadata": {},
     "output_type": "execute_result"
    }
   ],
   "source": [
    "len(Grid_points)"
   ]
  },
  {
   "cell_type": "code",
   "execution_count": 6,
   "metadata": {},
   "outputs": [
    {
     "data": {
      "image/png": "[encoded data removed]",
      "text/plain": [
       "<Figure size 432x288 with 1 Axes>"
      ]
     },
     "metadata": {
      "needs_background": "light"
     },
     "output_type": "display_data"
    }
   ],
   "source": [
    "plt.plot(x, y, '2', label='$t_0$')\n",
    "# plt.xlim = (-0.8, 0.8)\n",
    "# plt.ylim = (-0.8, 0.8)\n",
    "plt.legend(loc='upper right')\n",
    "plt.grid()\n",
    "plt.show()"
   ]
  },
  {
   "cell_type": "code",
   "execution_count": 7,
   "metadata": {},
   "outputs": [],
   "source": [
    "# Now I have the 100 particles around the origin: it's time to let them move\n",
    "# Since we are supposing that it is not present an external field, all the particles have the same\n",
    "# propbability to move on a 2-D plane: basically right, left, up, down\n",
    "P_right = P_left = P_up = P_down = 1/4\n",
    "# We randomically select the probability of going in one of the four directions\n",
    "from random import randrange\n",
    "\n",
    "def move(tup, l=0.1):\n",
    "    x, y = tup\n",
    "    r = randrange(4)\n",
    "    if r == 0:\n",
    "        x+=l # go right\n",
    "    elif r == 1:\n",
    "        x-=l # go left\n",
    "    elif r == 2:\n",
    "        y+=l # go up\n",
    "    else:\n",
    "        y-=l # go down\n",
    "    return (x, y)"
   ]
  },
  {
   "cell_type": "code",
   "execution_count": 8,
   "metadata": {},
   "outputs": [],
   "source": [
    "# Now we have to consider the time evolution of our sistem\n",
    "time_max = 100\n",
    "Total_Grids = [Grid_points]\n",
    "for t in range(time_max):\n",
    "    for i in range(len(Grid_points)):\n",
    "        Grid_points[i] = move(Grid_points[i])\n",
    "    New_Grid = np.array(Grid_points)\n",
    "    first, second = create_grid(New_Grid)\n",
    "#     plt.plot(first, second, 'o', label=f'$t_{t}$')\n",
    "#     plt.legend()\n",
    "#     plt.grid()\n",
    "#     plt.show()\n",
    "    Total_Grids.append(New_Grid)\n",
    "    Grid_points = np.array(New_Grid)\n",
    "Total_Grids = np.array(Total_Grids)"
   ]
  },
  {
   "cell_type": "code",
   "execution_count": 9,
   "metadata": {},
   "outputs": [],
   "source": [
    "import os\n",
    "import imageio\n",
    "filenames = []\n",
    "for t in range(time_max+1):\n",
    "    # plot the line chart\n",
    "    x, y = create_grid(Total_Grids[t]) \n",
    "    plt.plot(x, y, '2', label=f'Time step {t}')\n",
    "    plt.xlim(-2.5, 2.5)\n",
    "    plt.ylim(-2.5, 2.5)\n",
    "    plt.legend(loc='upper right')\n",
    "    plt.grid()\n",
    "    # create file name and append it to a list\n",
    "    filename = f'{t}.png'\n",
    "    filenames.append(filename)\n",
    "    \n",
    "    # save frame\n",
    "    plt.savefig(filename)\n",
    "    plt.close()\n",
    "# build gif\n",
    "with imageio.get_writer('diffusion.gif', mode='I') as writer:\n",
    "    for filename in filenames:\n",
    "        image = imageio.imread(filename)\n",
    "        writer.append_data(image)\n",
    "        \n",
    "# Remove files\n",
    "for filename in set(filenames):\n",
    "    os.remove(filename)"
   ]
  },
  {
   "cell_type": "markdown",
   "metadata": {},
   "source": [
    "![](diffusion.gif)"
   ]
  },
  {
   "cell_type": "code",
   "execution_count": null,
   "metadata": {},
   "outputs": [],
   "source": []
  },
  {
   "cell_type": "code",
   "execution_count": null,
   "metadata": {},
   "outputs": [],
   "source": []
  },
  {
   "cell_type": "markdown",
   "metadata": {},
   "source": [
    "# Now let's calculate how the probability changes over time"
   ]
  },
  {
   "cell_type": "code",
   "execution_count": 10,
   "metadata": {},
   "outputs": [],
   "source": [
    "# Now let's calculate how the probability changes over time\n",
    "def calculate_probability(z):\n",
    "    P_right = P_left = P_up = P_down = 1/4\n",
    "    z_new_new = np.array([z[i:i+50] for i in range(0, z.shape[0], 50)])\n",
    "    for i in range(1, z_new_new.shape[0]-1):\n",
    "        for j in range(1, z_new_new.shape[1]-1):\n",
    "            omega_i_j = P_right*z_new_new[i-1][j][2] + P_left*z_new_new[i+1][j][2] + P_up*z_new_new[i][j-1][2] + P_down*z_new_new[i][j+1][2]\n",
    "            z_new_new[i][j][2] = omega_i_j\n",
    "    # convert z_new_new back into z -> from an array of shape (50, 50, 3) into an array of shape (2500, 3)\n",
    "    final_z = np.array([z_new_new[i][j] for i in range(z_new_new.shape[0]) for j in range(z_new_new.shape[1])])\n",
    "    z_to_plot = np.array([final_z[i][2] for i in range(final_z.shape[0])])\n",
    "    return final_z, z_to_plot/sum(z_to_plot)"
   ]
  },
  {
   "cell_type": "code",
   "execution_count": 11,
   "metadata": {},
   "outputs": [
    {
     "data": {
      "text/plain": [
       "((2500, 3), array([[-2.5, -2.5,  0. ],\n",
       "        [-2.5, -2.4,  0. ],\n",
       "        [-2.5, -2.3,  0. ],\n",
       "        ...,\n",
       "        [ 2.4,  2.2,  0. ],\n",
       "        [ 2.4,  2.3,  0. ],\n",
       "        [ 2.4,  2.4,  0. ]]))"
      ]
     },
     "execution_count": 11,
     "metadata": {},
     "output_type": "execute_result"
    }
   ],
   "source": [
    "z_x = [round(i, 1) for i in np.arange(-2.5, 2.5, l)]\n",
    "z_y = [round(i, 1) for i in np.arange(-2.5, 2.5, l)]\n",
    "z = np.array([(x, y, 0) for x in z_x for y in z_y])\n",
    "z.shape, z"
   ]
  },
  {
   "cell_type": "code",
   "execution_count": 12,
   "metadata": {},
   "outputs": [
    {
     "data": {
      "image/png": "[encoded data removed]",
      "text/plain": [
       "<Figure size 432x288 with 1 Axes>"
      ]
     },
     "metadata": {
      "needs_background": "light"
     },
     "output_type": "display_data"
    }
   ],
   "source": [
    "from mpl_toolkits import mplot3d\n",
    "x, y = create_grid(Total_Grids[0])\n",
    "for i in range(z.shape[0]):\n",
    "    prova_x = [round(i, 1) for i in x]\n",
    "    prova_y = [round(i, 1) for i in y]\n",
    "    if sum([z[i][2] for i in range(z.shape[0])])>1:\n",
    "        break\n",
    "    elif z[i][0] in prova_x and z[i][1] in prova_y:\n",
    "        z[i][2] = 1./particles_number\n",
    "z_axes = np.array([z[i][2] for i in range(z.shape[0])])\n",
    "x_axes = np.array([z[i][0] for i in range(z.shape[0])])\n",
    "y_axes = np.array([z[i][1] for i in range(z.shape[0])])\n",
    "fig = plt.figure()\n",
    "ax = plt.axes(projection='3d')\n",
    "ax.set_zlim(0,0.008)\n",
    "ax.plot3D(x_axes, y_axes, z_axes, label=f'Time 0')\n",
    "ax.legend(loc='upper right');"
   ]
  },
  {
   "cell_type": "code",
   "execution_count": 13,
   "metadata": {
    "scrolled": true
   },
   "outputs": [],
   "source": [
    "filenames = []\n",
    "conservation_prob = []\n",
    "for t in range(time_max+1):\n",
    "    x, y = create_grid(Total_Grids[t])\n",
    "    if t == 0:\n",
    "        for i in range(z.shape[0]):\n",
    "            prova_x = [round(i, 1) for i in x]\n",
    "            prova_y = [round(i, 1) for i in y]\n",
    "            if sum([z[i][2] for i in range(z.shape[0])])>1:\n",
    "                break\n",
    "            elif z[i][0] in prova_x and z[i][1] in prova_y:\n",
    "                z[i][2] = 1./particles_number\n",
    "        z_axes = np.array([z[i][2] for i in range(z.shape[0])])\n",
    "    else:\n",
    "        z, z_axes = calculate_probability(z)\n",
    "    x_axes = np.array([z[i][0] for i in range(z.shape[0])])\n",
    "    y_axes = np.array([z[i][1] for i in range(z.shape[0])])\n",
    "    conservation_prob.append(sum(z_axes))\n",
    "    \n",
    "    fig = plt.figure()\n",
    "    ax = plt.axes(projection='3d')\n",
    "    ax.plot3D(x_axes, y_axes, z_axes, label=f'Time {t}')\n",
    "    ax.legend()\n",
    "#     ax.set_zlim(0,0.008)\n",
    "    filename = f'{t}.png'\n",
    "    filenames.append(filename)\n",
    "    \n",
    "    # save frame\n",
    "    plt.savefig(filename)\n",
    "    plt.close()\n",
    "# build gif\n",
    "with imageio.get_writer('Probability_diffusion.gif', mode='I') as writer:\n",
    "    for filename in filenames:\n",
    "        image = imageio.imread(filename)\n",
    "        writer.append_data(image)\n",
    "        \n",
    "# Remove files\n",
    "for filename in set(filenames):\n",
    "    os.remove(filename)"
   ]
  },
  {
   "cell_type": "markdown",
   "metadata": {},
   "source": [
    "![](Probability_diffusion_4_zaxes_fixed.gif)"
   ]
  },
  {
   "cell_type": "code",
   "execution_count": 14,
   "metadata": {},
   "outputs": [
    {
     "data": {
      "text/plain": [
       "1.000000000000002"
      ]
     },
     "execution_count": 14,
     "metadata": {},
     "output_type": "execute_result"
    }
   ],
   "source": [
    "sum(z_axes) # probabability is conserved if this number is really close to 1"
   ]
  },
  {
   "cell_type": "code",
   "execution_count": 15,
   "metadata": {},
   "outputs": [
    {
     "data": {
      "text/plain": [
       "(1.0, 1.7658141602604294e-15)"
      ]
     },
     "execution_count": 15,
     "metadata": {},
     "output_type": "execute_result"
    }
   ],
   "source": [
    "np.mean(conservation_prob), np.std(conservation_prob)"
   ]
  },
  {
   "cell_type": "markdown",
   "metadata": {},
   "source": [
    "Diffusion                  |  Probability diffusion\n",
    ":-------------------------:|:-------------------------:\n",
    "![](diffusion.gif)         |  ![](Probability_diffusion.gif)"
   ]
  }
 ],
 "metadata": {
  "kernelspec": {
   "display_name": "Python 3",
   "language": "python",
   "name": "python3"
  },
  "language_info": {
   "codemirror_mode": {
    "name": "ipython",
    "version": 3
   },
   "file_extension": ".py",
   "mimetype": "text/x-python",
   "name": "python",
   "nbconvert_exporter": "python",
   "pygments_lexer": "ipython3",
   "version": "3.7.4"
  }
 },
 "nbformat": 4,
 "nbformat_minor": 2
}
